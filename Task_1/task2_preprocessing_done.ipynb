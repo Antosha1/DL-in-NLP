{
  "nbformat": 4,
  "nbformat_minor": 0,
  "metadata": {
    "kernelspec": {
      "name": "python3",
      "display_name": "Python 3"
    },
    "language_info": {
      "codemirror_mode": {
        "name": "ipython",
        "version": 3
      },
      "file_extension": ".py",
      "mimetype": "text/x-python",
      "name": "python",
      "nbconvert_exporter": "python",
      "pygments_lexer": "ipython3",
      "version": "3.6.10"
    },
    "colab": {
      "name": "task2_preprocessing_done.ipynb",
      "provenance": [],
      "collapsed_sections": []
    },
    "accelerator": "GPU"
  },
  "cells": [
    {
      "cell_type": "markdown",
      "metadata": {
        "id": "JNbRbMV4y_Jm",
        "colab_type": "text"
      },
      "source": [
        "# Assignment 1.2: Word2vec preprocessing (20 points)"
      ]
    },
    {
      "cell_type": "markdown",
      "metadata": {
        "id": "8kMAeQnvy_Jr",
        "colab_type": "text"
      },
      "source": [
        "Preprocessing is not the most exciting part of NLP, but it is still one of the most important ones. Your task is to preprocess raw text (you can use your own, or [this one](http://mattmahoney.net/dc/text8.zip). For this task text preprocessing mostly consists of:\n",
        "\n",
        "1. cleaning (mostly, if your dataset is from social media or parsed from the internet)\n",
        "1. tokenization\n",
        "1. building the vocabulary and choosing its size. Use only high-frequency words, change all other words to UNK or handle it in your own manner. You can use `collections.Counter` for that.\n",
        "1. assigning each token a number (numericalization). In other words, make word2index и index2word objects.\n",
        "1. data structuring and batching - make X and y matrices generator for word2vec (explained in more details below)\n",
        "\n",
        "**ATTN!:** If you use your own data, please, attach a download link. \n",
        "\n",
        "Your goal is to make **Batcher** class which returns two numpy tensors with word indices. It should be possible to use one for word2vec training. You can implement batcher for Skip-Gram or CBOW architecture, the picture below can be helpful to remember the difference.\n",
        "\n",
        "![text](https://raw.githubusercontent.com/deepmipt/deep-nlp-seminars/651804899d05b96fc72b9474404fab330365ca09/seminar_02/pics/architecture.png)\n",
        "\n",
        "There are several ways to do it right. Shapes could be `x_batch.shape = (batch_size, 2*window_size)`, `y_batch.shape = (batch_size,)` for CBOW or `(batch_size,)`, `(batch_size, 2*window_size)` for Skip-Gram. You should **not** do negative sampling here.\n",
        "\n",
        "They should be adequately parametrized: CBOW(window_size, ...), SkipGram(window_size, ...). You should implement only one batcher in this task; and it's up to you which one to chose.\n",
        "\n",
        "Useful links:\n",
        "1. [Word2Vec Tutorial - The Skip-Gram Model](http://mccormickml.com/2016/04/19/word2vec-tutorial-the-skip-gram-model/)\n",
        "1. [Efficient Estimation of Word Representations in Vector Space](https://arxiv.org/pdf/1301.3781.pdf)\n",
        "1. [Distributed Representations of Words and Phrases and their Compositionality](http://papers.nips.cc/paper/5021-distributed-representations-of-words-and-phrases-and-their-compositionality.pdf)\n",
        "\n",
        "You can write the code in this notebook, or in a separate file. It can be reused for the next task. The result of your work should represent that your batch has a proper structure (right shapes) and content (words should be from one context, not some random indices). To show that, translate indices back to words and print them to show something like this:\n",
        "\n",
        "```\n",
        "text = ['first', 'used', 'against', 'early', 'working', 'class', 'radicals', 'including']\n",
        "\n",
        "window_size = 2\n",
        "\n",
        "# CBOW:\n",
        "indices_to_words(x_batch) = \\\n",
        "        [['first', 'used', 'early', 'working'],\n",
        "        ['used', 'against', 'working', 'class'],\n",
        "        ['against', 'early', 'class', 'radicals'],\n",
        "        ['early', 'working', 'radicals', 'including']]\n",
        "\n",
        "indices_to_words(labels_batch) = ['against', 'early', 'working', 'class']\n",
        "```"
      ]
    },
    {
      "cell_type": "code",
      "metadata": {
        "id": "PAKfoYF__K4s",
        "colab_type": "code",
        "colab": {}
      },
      "source": [
        "import torch\n",
        "import numpy as np\n",
        "import os\n",
        "import pandas as pd\n",
        "from pprint import pprint\n",
        "from collections import Counter, deque\n",
        "import re\n",
        "import string\n",
        "import requests\n",
        "import random\n",
        "\n",
        "START_TOKEN = '<START>'\n",
        "END_TOKEN = '<END>'\n",
        "UNK_TOKEN = '<UNK>'\n",
        "\n",
        "np.random.seed(17)\n",
        "random.seed(17)"
      ],
      "execution_count": 0,
      "outputs": []
    },
    {
      "cell_type": "code",
      "metadata": {
        "id": "-Bs78gCFd1oa",
        "colab_type": "code",
        "colab": {
          "base_uri": "https://localhost:8080/",
          "height": 52
        },
        "outputId": "e02765d9-197b-48df-fa60-7f1a71a01075"
      },
      "source": [
        "#Скачиваем корпус\n",
        "if not os.path.isfile('text8'):\n",
        "    with open('data.zip', 'wb') as f:\n",
        "        r = requests.get('http://mattmahoney.net/dc/text8.zip')\n",
        "        f.write(r.content)\n",
        "    !unzip 'data.zip' \n",
        "\n",
        "with open('text8') as f:\n",
        "    corpus = f.read().lower().split()"
      ],
      "execution_count": 3,
      "outputs": [
        {
          "output_type": "stream",
          "text": [
            "Archive:  data.zip\n",
            "  inflating: text8                   \n"
          ],
          "name": "stdout"
        }
      ]
    },
    {
      "cell_type": "code",
      "metadata": {
        "id": "EX2zxkB1eTHs",
        "colab_type": "code",
        "outputId": "df5a3af2-bf53-4304-f48a-2d73388a82a2",
        "colab": {
          "base_uri": "https://localhost:8080/",
          "height": 35
        }
      },
      "source": [
        "print(corpus[:10])"
      ],
      "execution_count": 4,
      "outputs": [
        {
          "output_type": "stream",
          "text": [
            "['anarchism', 'originated', 'as', 'a', 'term', 'of', 'abuse', 'first', 'used', 'against']\n"
          ],
          "name": "stdout"
        }
      ]
    },
    {
      "cell_type": "markdown",
      "metadata": {
        "id": "ZrLrc9vuoLhf",
        "colab_type": "text"
      },
      "source": [
        "Как видно ниже, если выбирать минимальную частоту за 5, то обработка корпуса занимает 30 с небольшим минут (все же надеюсь, что это дело можно как-то ускорить, буду рад, если проверяющий знает и поделится способом :) ). Если ноутбук будет запущен заново, то лучше использовать ячейку ниже следующей, где выбирается 10k самых часто встречающихся слов в корпусе (там обработка очень быстрая)."
      ]
    },
    {
      "cell_type": "code",
      "metadata": {
        "id": "I2m-LbUVOEBw",
        "colab_type": "code",
        "colab": {
          "base_uri": "https://localhost:8080/",
          "height": 70
        },
        "outputId": "cc9132fc-1eda-46b1-b6ce-250ab10dc98f"
      },
      "source": [
        "%%time\n",
        "\n",
        "freq_dict = Counter(corpus)\n",
        "vocabulary = [word for word, freq in freq_dict.items() if freq >= 5]\n",
        "vocabulary.append(UNK_TOKEN)\n",
        "\n",
        "data = []\n",
        "\n",
        "for word in corpus:\n",
        "  if word in vocabulary:\n",
        "    data.append(word)\n",
        "  else:\n",
        "    data.append(UNK_TOKEN)\n",
        "\n",
        "word2idx = {w: idx for (idx, w) in enumerate(vocabulary)}\n",
        "idx2word = {idx: w for (idx, w) in enumerate(vocabulary)}"
      ],
      "execution_count": 11,
      "outputs": [
        {
          "output_type": "stream",
          "text": [
            "['anarchism', 'originated', 'as', 'a', 'term']\n",
            "CPU times: user 31min 8s, sys: 463 ms, total: 31min 8s\n",
            "Wall time: 31min 10s\n"
          ],
          "name": "stdout"
        }
      ]
    },
    {
      "cell_type": "code",
      "metadata": {
        "id": "72jPRmarZzwA",
        "colab_type": "code",
        "colab": {
          "base_uri": "https://localhost:8080/",
          "height": 52
        },
        "outputId": "3bb1d476-62e9-4e8a-d18a-b33ff4b74335"
      },
      "source": [
        "%%time\n",
        "\n",
        "VOCAB_SIZE = 10000\n",
        "freq_dict = Counter(corpus)\n",
        "no_rare_dict = freq_dict.most_common(VOCAB_SIZE)\n",
        "min_freq = no_rare_dict[-1][1]\n",
        "vocabulary = [x[0] for x in no_rare_dict]\n",
        "vocabulary.append(UNK_TOKEN)\n",
        "\n",
        "data = []\n",
        "for i, word in enumerate(corpus):\n",
        "  if freq_dict[word] > min_freq:\n",
        "    data.append(word)\n",
        "  else:\n",
        "    data.append(UNK_TOKEN)\n",
        "\n",
        "word2idx = {w: idx for (idx, w) in enumerate(vocabulary)}\n",
        "idx2word = {idx: w for (idx, w) in enumerate(vocabulary)}"
      ],
      "execution_count": 18,
      "outputs": [
        {
          "output_type": "stream",
          "text": [
            "CPU times: user 10.2 s, sys: 82 ms, total: 10.3 s\n",
            "Wall time: 10.3 s\n"
          ],
          "name": "stdout"
        }
      ]
    },
    {
      "cell_type": "code",
      "metadata": {
        "id": "pjpO-xpIVscV",
        "colab_type": "code",
        "colab": {}
      },
      "source": [
        "class Batcher(object):\n",
        "  def __init__(self, batch_size, window_size, data):\n",
        "    self.batch_size = batch_size\n",
        "    self.window_size = window_size\n",
        "    self.data = data\n",
        "\n",
        "  def __iter__(self):\n",
        "    return self\n",
        "\n",
        "  def __next__(self):\n",
        "    global idx\n",
        "    batch_size = self.batch_size\n",
        "    window_size = self.window_size\n",
        "    data = self.data\n",
        "    x_batch, labels_batch, context = [], [], []\n",
        "\n",
        "    for i in range(batch_size):\n",
        "      if (idx - window_size < 0) or (idx + window_size > len(data) - 1):\n",
        "        idx = (idx + 1) % len(data)\n",
        "      else:\n",
        "        x_batch.append(word2idx[data[idx]])\n",
        "        labels_batch.append(list(word2idx[word] for word in data[idx-window_size:idx] + data[idx+1:idx+window_size+1]))\n",
        "        idx = (idx + 1) % len(data)\n",
        "\n",
        "    return (x_batch, labels_batch)"
      ],
      "execution_count": 0,
      "outputs": []
    },
    {
      "cell_type": "code",
      "metadata": {
        "id": "xVvs9evjZzqg",
        "colab_type": "code",
        "colab": {}
      },
      "source": [
        "idx = 0\n",
        "batch_size = 10\n",
        "window_size = 2\n",
        "batcher = Batcher(batch_size, window_size, data)\n",
        "build_batch = iter(batcher)"
      ],
      "execution_count": 0,
      "outputs": []
    },
    {
      "cell_type": "code",
      "metadata": {
        "id": "XCUQg7R_u3dH",
        "colab_type": "code",
        "outputId": "edf28070-4fb3-440d-9f24-f7ca3c83c298",
        "colab": {
          "base_uri": "https://localhost:8080/",
          "height": 161
        }
      },
      "source": [
        "print('data:', [di for di in data[:16]])\n",
        "\n",
        "batch, labels = next(build_batch)\n",
        "print('\\nWindow_size = {}:'.format(window_size))\n",
        "print('\\nbatch: {}'.format([idx2word[idx] for idx in batch]))\n",
        "print()\n",
        "print('labels: {}'.format([[idx2word[idx] for idx in context] for context in labels]))"
      ],
      "execution_count": 21,
      "outputs": [
        {
          "output_type": "stream",
          "text": [
            "data: ['anarchism', 'originated', 'as', 'a', 'term', 'of', 'abuse', 'first', 'used', 'against', 'early', 'working', 'class', '<UNK>', 'including', 'the']\n",
            "\n",
            "Window_size = 2:\n",
            "\n",
            "batch: ['as', 'a', 'term', 'of', 'abuse', 'first', 'used', 'against']\n",
            "\n",
            "labels: [['anarchism', 'originated', 'a', 'term'], ['originated', 'as', 'term', 'of'], ['as', 'a', 'of', 'abuse'], ['a', 'term', 'abuse', 'first'], ['term', 'of', 'first', 'used'], ['of', 'abuse', 'used', 'against'], ['abuse', 'first', 'against', 'early'], ['first', 'used', 'early', 'working']]\n"
          ],
          "name": "stdout"
        }
      ]
    },
    {
      "cell_type": "code",
      "metadata": {
        "id": "PP9352qhZzn_",
        "colab_type": "code",
        "outputId": "490bd2b9-3d75-4648-cf9a-6be8183aa955",
        "colab": {
          "base_uri": "https://localhost:8080/",
          "height": 159
        }
      },
      "source": [
        "#Для проверки выведем небольшой кусочек корпуса\n",
        "pprint(\" \".join(word for word in data[:100]))"
      ],
      "execution_count": 22,
      "outputs": [
        {
          "output_type": "stream",
          "text": [
            "('anarchism originated as a term of abuse first used against early working '\n",
            " 'class <UNK> including the <UNK> of the english revolution and the <UNK> '\n",
            " '<UNK> of the french revolution whilst the term is still used in a <UNK> way '\n",
            " 'to describe any act that used violent means to destroy the organization of '\n",
            " 'society it has also been taken up as a positive label by self defined '\n",
            " 'anarchists the word anarchism is derived from the greek without <UNK> ruler '\n",
            " 'chief king anarchism as a political philosophy is the belief that rulers are '\n",
            " 'unnecessary and should be abolished although there are differing')\n"
          ],
          "name": "stdout"
        }
      ]
    },
    {
      "cell_type": "code",
      "metadata": {
        "id": "wt1UOCSdZzQp",
        "colab_type": "code",
        "colab": {}
      },
      "source": [
        ""
      ],
      "execution_count": 0,
      "outputs": []
    }
  ]
}